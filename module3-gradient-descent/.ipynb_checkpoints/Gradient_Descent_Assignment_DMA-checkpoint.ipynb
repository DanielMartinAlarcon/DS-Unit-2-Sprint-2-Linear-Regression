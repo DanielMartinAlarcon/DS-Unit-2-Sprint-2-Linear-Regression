{
 "cells": [
  {
   "cell_type": "markdown",
   "metadata": {
    "colab_type": "text",
    "id": "Qhm0Y_jqXKRv"
   },
   "source": [
    "# Gradient Descent Implementation Challenge!!\n",
    "\n",
    "## Use gradient descent to find the optimal parameters of a **multiple** regression model. (We only showed an implementation for a bivariate model during lecture.)\n",
    "\n",
    "A note: Implementing gradient descent in any context is not trivial, particularly the step where we calculate the gradient will change based on the number of parameters that we're trying to optimize for. You will need to research what the gradient of a multiple regression model looks like. This challenge is pretty open-ended but I hope it will be thrilling. Please work together, help each other, share resources and generally expand your understanding of gradient descent as you try and achieve this implementation. \n",
    "\n",
    "## Suggestions:\n",
    "\n",
    "Start off with a model that has just two $X$ variables You can use any datasets that have at least two x variables. Potential candidates might be the blood pressure dataset that we used during lecture on Monday: [HERE](https://college.cengage.com/mathematics/brase/understandable_statistics/7e/students/datasets/mlr/excel/mlr02.xls) or any of the housing datasets. You would just need to select from them the two varaibles $x$ variables and one y variable that you want to work with that you most want to work with. \n",
    "\n",
    "Use Sklearn to find the optimal parameters of your model first. (like we did during the lecture.) So that you can compare the parameter estimates of your gradient-descent linear regression to the estimates of OLS linear regression. If implemented correctly they should be nearly identical.\n",
    "\n",
    "Becoming a Data Scientist is all about striking out into the unknown, getting stuck and then researching and fighting and learning until you get yourself unstuck. Work together! And fight to take your own learning-rate fueled step towards your own optimal understanding of gradient descent! \n"
   ]
  },
  {
   "cell_type": "code",
   "execution_count": 9,
   "metadata": {
    "colab": {},
    "colab_type": "code",
    "id": "_tWzF6IqXIIq"
   },
   "outputs": [],
   "source": [
    "# Incantations\n",
    "import pandas as pd\n",
    "import matplotlib.pyplot as plt\n",
    "import numpy as np\n",
    "import seaborn as sns\n",
    "\n",
    "from sklearn.linear_model import LinearRegression\n",
    "from sklearn.preprocessing import StandardScaler\n",
    "\n",
    "# To display all cell outputs instead of just last\n",
    "# No more needing to always print()\n",
    "from IPython.core.interactiveshell import InteractiveShell\n",
    "InteractiveShell.ast_node_interactivity = 'all'"
   ]
  },
  {
   "cell_type": "markdown",
   "metadata": {},
   "source": [
    "# OLS Solution"
   ]
  },
  {
   "cell_type": "code",
   "execution_count": 5,
   "metadata": {},
   "outputs": [
    {
     "name": "stdout",
     "output_type": "stream",
     "text": [
      "*** No CODEPAGE record, no encoding_override: will use 'ascii'\n",
      "(11, 3)\n"
     ]
    },
    {
     "data": {
      "text/html": [
       "<div>\n",
       "<style scoped>\n",
       "    .dataframe tbody tr th:only-of-type {\n",
       "        vertical-align: middle;\n",
       "    }\n",
       "\n",
       "    .dataframe tbody tr th {\n",
       "        vertical-align: top;\n",
       "    }\n",
       "\n",
       "    .dataframe thead th {\n",
       "        text-align: right;\n",
       "    }\n",
       "</style>\n",
       "<table border=\"1\" class=\"dataframe\">\n",
       "  <thead>\n",
       "    <tr style=\"text-align: right;\">\n",
       "      <th></th>\n",
       "      <th>y</th>\n",
       "      <th>age</th>\n",
       "      <th>weight</th>\n",
       "    </tr>\n",
       "  </thead>\n",
       "  <tbody>\n",
       "    <tr>\n",
       "      <th>0</th>\n",
       "      <td>132</td>\n",
       "      <td>52</td>\n",
       "      <td>173</td>\n",
       "    </tr>\n",
       "    <tr>\n",
       "      <th>1</th>\n",
       "      <td>143</td>\n",
       "      <td>59</td>\n",
       "      <td>184</td>\n",
       "    </tr>\n",
       "    <tr>\n",
       "      <th>2</th>\n",
       "      <td>153</td>\n",
       "      <td>67</td>\n",
       "      <td>194</td>\n",
       "    </tr>\n",
       "    <tr>\n",
       "      <th>3</th>\n",
       "      <td>162</td>\n",
       "      <td>73</td>\n",
       "      <td>211</td>\n",
       "    </tr>\n",
       "    <tr>\n",
       "      <th>4</th>\n",
       "      <td>154</td>\n",
       "      <td>64</td>\n",
       "      <td>196</td>\n",
       "    </tr>\n",
       "  </tbody>\n",
       "</table>\n",
       "</div>"
      ],
      "text/plain": [
       "     y  age  weight\n",
       "0  132   52     173\n",
       "1  143   59     184\n",
       "2  153   67     194\n",
       "3  162   73     211\n",
       "4  154   64     196"
      ]
     },
     "execution_count": 5,
     "metadata": {},
     "output_type": "execute_result"
    }
   ],
   "source": [
    "# Importing Monday's blood pressure dataset.\n",
    "df = pd.read_excel('https://college.cengage.com/mathematics/brase/understandable_statistics/7e/students/datasets/mlr/excel/mlr02.xls')\n",
    "df = df.rename(index=str, columns={\"X1\": \"y\", \"X2\": \"age\", \"X3\": \"weight\"})\n",
    "print(df.shape)\n",
    "df.head()"
   ]
  },
  {
   "cell_type": "code",
   "execution_count": 26,
   "metadata": {},
   "outputs": [
    {
     "data": {
      "text/plain": [
       "LinearRegression(copy_X=True, fit_intercept=True, n_jobs=None,\n",
       "         normalize=False)"
      ]
     },
     "execution_count": 26,
     "metadata": {},
     "output_type": "execute_result"
    },
    {
     "name": "stdout",
     "output_type": "stream",
     "text": [
      "\n",
      "Intercept Value, beta_0: \n",
      " [30.99410295]\n",
      "\n",
      "Slope Coefficients, beta_i: \n",
      " [0.86141469 0.3348592 ]\n",
      "\n",
      "Blood pressure, y: \n",
      "[[132]\n",
      " [143]\n",
      " [153]\n",
      " [162]\n",
      " [154]\n",
      " [168]\n",
      " [137]\n",
      " [149]\n",
      " [159]\n",
      " [128]\n",
      " [166]]\n",
      "\n",
      "Independent variables, X: \n",
      "[[ 52 173]\n",
      " [ 59 184]\n",
      " [ 67 194]\n",
      " [ 73 211]\n",
      " [ 64 196]\n",
      " [ 74 220]\n",
      " [ 54 188]\n",
      " [ 61 188]\n",
      " [ 65 207]\n",
      " [ 46 167]\n",
      " [ 72 217]]\n"
     ]
    }
   ],
   "source": [
    "y = df.loc[:, ['y']].values\n",
    "X = df.loc[:, ['age','weight']].values\n",
    "\n",
    "model = LinearRegression()\n",
    "model.fit(X, y)\n",
    "\n",
    "beta_0 = model.intercept_\n",
    "beta_i = model.coef_[0]\n",
    "\n",
    "print(\"\\nIntercept Value, beta_0: \\n\", beta_0)\n",
    "print(\"\\nSlope Coefficients, beta_i: \\n\", beta_i)\n",
    "print(f'\\nBlood pressure, y: \\n{y}')\n",
    "print(f'\\nIndependent variables, X: \\n{X}')"
   ]
  },
  {
   "cell_type": "markdown",
   "metadata": {},
   "source": [
    "# Gradient descent"
   ]
  },
  {
   "cell_type": "markdown",
   "metadata": {},
   "source": [
    "The gradient descent formula is given by:\n",
    "![Gradient Descent formula](http://www.ryanleeallred.com/wp-content/uploads/2019/01/gradient-descent-formula.png)\n",
    "Where each new theta_j results from subtracting a term composed of alpha and the slope of J evaluated at the current theta_j. Theta is the vector of coefficients that go into the linear regression. Theta = [beta_0, beta_i[0], ... beta_i[total dimensions - 1]].\n",
    "\n",
    "The slope is something we'll determine soon, but is based on the error evaluated at theta_j"
   ]
  },
  {
   "cell_type": "markdown",
   "metadata": {},
   "source": [
    "## Implemented part-by-part\n",
    "I'll do this by parts first, to make sure that I understand what's going on before putting everything into a singel function."
   ]
  },
  {
   "cell_type": "code",
   "execution_count": 55,
   "metadata": {},
   "outputs": [
    {
     "name": "stdout",
     "output_type": "stream",
     "text": [
      "theta_null: \n",
      "[60, 5, 5]\n"
     ]
    }
   ],
   "source": [
    "# theta_null is the starting point for the equation, in this case chosen \n",
    "# because it's close to the global maximum given by OLS. \n",
    "theta_null = [60, 5, 5]\n",
    "print(f'theta_null: \\n{theta_null}')"
   ]
  },
  {
   "cell_type": "code",
   "execution_count": 57,
   "metadata": {},
   "outputs": [
    {
     "name": "stdout",
     "output_type": "stream",
     "text": [
      "X_norm: \n",
      "[[-1.20301838 -1.33261043]\n",
      " [-0.39751912 -0.66630522]\n",
      " [ 0.52305147 -0.0605732 ]\n",
      " [ 1.21347941  0.96917122]\n",
      " [ 0.1778375   0.0605732 ]\n",
      " [ 1.32855074  1.51433004]\n",
      " [-0.97287574 -0.42401241]\n",
      " [-0.16737647 -0.42401241]\n",
      " [ 0.29290882  0.72687842]\n",
      " [-1.89344632 -1.69604964]\n",
      " [ 1.09840809  1.33261043]]\n"
     ]
    }
   ],
   "source": [
    "# I first normalize X\n",
    "\n",
    "# StandardScaler subtracts mean, normalizes to stdev=1\n",
    "scaler = StandardScaler() \n",
    "# I apply the normalization to X. I changed the type to prevent a \n",
    "# dtype change warning from StandardScaler\n",
    "X_norm = scaler.fit_transform(X.astype('float64'))\n",
    "print(f'X_norm: \\n{X_norm}')"
   ]
  },
  {
   "cell_type": "code",
   "execution_count": 29,
   "metadata": {},
   "outputs": [
    {
     "name": "stdout",
     "output_type": "stream",
     "text": [
      "X_linalg: \n",
      "[[ 1.         -1.20301838 -1.33261043]\n",
      " [ 1.         -0.39751912 -0.66630522]\n",
      " [ 1.          0.52305147 -0.0605732 ]\n",
      " [ 1.          1.21347941  0.96917122]\n",
      " [ 1.          0.1778375   0.0605732 ]\n",
      " [ 1.          1.32855074  1.51433004]\n",
      " [ 1.         -0.97287574 -0.42401241]\n",
      " [ 1.         -0.16737647 -0.42401241]\n",
      " [ 1.          0.29290882  0.72687842]\n",
      " [ 1.         -1.89344632 -1.69604964]\n",
      " [ 1.          1.09840809  1.33261043]]\n"
     ]
    }
   ],
   "source": [
    "# I then add a column of 1s at the beginning, destined to later be \n",
    "# multiplied by beta_0. I use the class parameter 'np.c_', which\n",
    "# concatenates two arrays along the second axis (columns) and creates such\n",
    "# an axis if it doesn't exist (as happens here with the np.ones \n",
    "# vector that has the same length as the rows in X_norm)\n",
    "X_linalg = np.c_[np.ones(X_norm.shape[0]), X_norm]\n",
    "print(f'X_linalg: \\n{X_linalg}')"
   ]
  },
  {
   "cell_type": "code",
   "execution_count": 50,
   "metadata": {},
   "outputs": [
    {
     "name": "stdout",
     "output_type": "stream",
     "text": [
      "y_hat: \n",
      "[[47.32185592]\n",
      " [54.68087833]\n",
      " [62.31239135]\n",
      " [70.91325318]\n",
      " [61.19205351]\n",
      " [74.21440387]\n",
      " [53.01555927]\n",
      " [57.04305559]\n",
      " [65.09893621]\n",
      " [42.05252017]\n",
      " [72.15509261]]\n"
     ]
    }
   ],
   "source": [
    "# I then make an array of predictions, y_hat, which for any \n",
    "# datapoint (row) in X_linalg is the result of multiplying all the terms\n",
    "# by the regression equation coefficients in theta and adding up\n",
    "# these products.  That is, the regression equation is evaluated at each\n",
    "# row in X, which may contain multiple dimensions. The simple way to \n",
    "# calculate that is with the dot product. I'll include these calculations\n",
    "# in a general function later, but for now I'll use the initialization\n",
    "# values.\n",
    "\n",
    "theta = theta_null\n",
    "y_hat = np.dot(X_linalg, theta).reshape(-1,1)\n",
    "print(f'y_hat: \\n{y_hat}')"
   ]
  },
  {
   "cell_type": "code",
   "execution_count": 58,
   "metadata": {},
   "outputs": [
    {
     "name": "stdout",
     "output_type": "stream",
     "text": [
      "errors: \n",
      "[[-84.67814408]\n",
      " [-88.31912167]\n",
      " [-90.68760865]\n",
      " [-91.08674682]\n",
      " [-92.80794649]\n",
      " [-93.78559613]\n",
      " [-83.98444073]\n",
      " [-91.95694441]\n",
      " [-93.90106379]\n",
      " [-85.94747983]\n",
      " [-93.84490739]]\n"
     ]
    }
   ],
   "source": [
    "# The error comes from subtracting the actual y values from our \n",
    "# predictions, y_hat. Note that I had to reshape them so that the\n",
    "# subtraction happened elementwise.\n",
    "errors = y_hat - y\n",
    "print(f'errors: \\n{errors}')"
   ]
  },
  {
   "cell_type": "markdown",
   "metadata": {
    "colab_type": "text",
    "id": "RCs6EmWhYPM-"
   },
   "source": [
    "## Stretch Goals\n",
    "\n",
    "If you happen upon the most useful resources for accomplishing this challenge first, I want you to spend time today studying other variations of Gradient Descent-Based Optimizers.\n",
    "\n",
    "- Try and write a function that can perform gradient descent for arbitarily large (in dimensionality) multiple regression models. \n",
    "- Create a notebook for yourself exploring these topics\n",
    "- How do they differ from the \"vanilla\" gradient descent we explored today\n",
    "- How do these different gradient descent-based optimizers seek to overcome the challenge of finding the global minimum among various local minima?\n",
    "- Write a blog post that reteaches what you have learned about these other gradient descent-based optimizers.\n",
    "\n",
    "[Overview of GD-based optimizers](http://ruder.io/optimizing-gradient-descent/)\n",
    "\n",
    "[Siraj Raval - Evolution of Gradient Descent-Based Optimizers](https://youtu.be/nhqo0u1a6fw)"
   ]
  }
 ],
 "metadata": {
  "colab": {
   "name": "Gradient Descent Assignment.ipynb",
   "provenance": [],
   "version": "0.3.2"
  },
  "kernelspec": {
   "display_name": "Python 3",
   "language": "python",
   "name": "python3"
  },
  "language_info": {
   "codemirror_mode": {
    "name": "ipython",
    "version": 3
   },
   "file_extension": ".py",
   "mimetype": "text/x-python",
   "name": "python",
   "nbconvert_exporter": "python",
   "pygments_lexer": "ipython3",
   "version": "3.7.1"
  }
 },
 "nbformat": 4,
 "nbformat_minor": 1
}
